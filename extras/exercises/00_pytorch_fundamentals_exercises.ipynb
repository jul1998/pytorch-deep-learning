{
  "nbformat": 4,
  "nbformat_minor": 0,
  "metadata": {
    "colab": {
      "name": "00_pytorch_fundamentals_exercises.ipynb",
      "provenance": [],
      "toc_visible": true,
      "gpuType": "T4"
    },
    "kernelspec": {
      "name": "python3",
      "display_name": "Python 3"
    },
    "language_info": {
      "name": "python"
    },
    "accelerator": "GPU",
    "gpuClass": "standard"
  },
  "cells": [
    {
      "cell_type": "markdown",
      "source": [
        "# 00. PyTorch Fundamentals Exercises\n",
        "\n",
        "### 1. Documentation reading \n",
        "\n",
        "A big part of deep learning (and learning to code in general) is getting familiar with the documentation of a certain framework you're using. We'll be using the PyTorch documentation a lot throughout the rest of this course. So I'd recommend spending 10-minutes reading the following (it's okay if you don't get some things for now, the focus is not yet full understanding, it's awareness):\n",
        "  * The documentation on [`torch.Tensor`](https://pytorch.org/docs/stable/tensors.html#torch-tensor).\n",
        "  * The documentation on [`torch.cuda`](https://pytorch.org/docs/master/notes/cuda.html#cuda-semantics).\n",
        "\n"
      ],
      "metadata": {
        "id": "AzDBM_v4iMe7"
      }
    },
    {
      "cell_type": "code",
      "source": [
        "# No code solution (reading)"
      ],
      "metadata": {
        "id": "bGD0oD8Kizak"
      },
      "execution_count": null,
      "outputs": []
    },
    {
      "cell_type": "markdown",
      "source": [
        "### 2. Create a random tensor with shape `(7, 7)`.\n"
      ],
      "metadata": {
        "id": "__iXqqz-ioUJ"
      }
    },
    {
      "cell_type": "code",
      "source": [
        "# Import torch\n",
        "import torch\n",
        "\n",
        "\n",
        "# Create random tensor\n",
        "random_tensor = torch.rand(7,7)\n",
        "random_tensor"
      ],
      "metadata": {
        "id": "6pUq9Dc8i2L7",
        "outputId": "9ebfadcf-3c6f-423e-f40a-7893fcd6466c",
        "colab": {
          "base_uri": "https://localhost:8080/"
        }
      },
      "execution_count": 9,
      "outputs": [
        {
          "output_type": "execute_result",
          "data": {
            "text/plain": [
              "tensor([[0.5598, 0.8600, 0.9462, 0.0466, 0.0712, 0.6361, 0.0346],\n",
              "        [0.2688, 0.8148, 0.5460, 0.9142, 0.7391, 0.1327, 0.2429],\n",
              "        [0.8903, 0.1092, 0.6246, 0.8653, 0.7436, 0.7624, 0.6815],\n",
              "        [0.5248, 0.3682, 0.0537, 0.2730, 0.5832, 0.3300, 0.9790],\n",
              "        [0.0072, 0.8171, 0.3138, 0.1902, 0.0514, 0.1338, 0.4685],\n",
              "        [0.0405, 0.4329, 0.7883, 0.0409, 0.3232, 0.1497, 0.5154],\n",
              "        [0.9794, 0.5645, 0.8607, 0.4383, 0.4081, 0.6277, 0.5803]])"
            ]
          },
          "metadata": {},
          "execution_count": 9
        }
      ]
    },
    {
      "cell_type": "markdown",
      "source": [
        "### 3. Perform a matrix multiplication on the tensor from 2 with another random tensor with shape `(1, 7)` (hint: you may have to transpose the second tensor)."
      ],
      "metadata": {
        "id": "9-XxvRLfiqkR"
      }
    },
    {
      "cell_type": "code",
      "source": [
        "# Create another random tensor\n",
        "second_random_tensor = torch.rand(1,7)\n",
        "print(second_random_tensor)\n",
        "\n",
        "# Perform matrix multiplication \n",
        "second_random_tensor_transposed = torch.t(second_random_tensor)\n",
        "result = random_tensor @ second_random_tensor_transposed\n",
        "result"
      ],
      "metadata": {
        "id": "NcLqR0Sbi_vT",
        "outputId": "7a9dc092-d6af-45e0-ce1f-4538b82e23c9",
        "colab": {
          "base_uri": "https://localhost:8080/"
        }
      },
      "execution_count": 12,
      "outputs": [
        {
          "output_type": "stream",
          "name": "stdout",
          "text": [
            "tensor([[0.0382, 0.2540, 0.5694, 0.2113, 0.6617, 0.5744, 0.3059]])\n"
          ]
        },
        {
          "output_type": "execute_result",
          "data": {
            "text/plain": [
              "tensor([[1.2115],\n",
              "        [1.3609],\n",
              "        [1.7387],\n",
              "        [1.0767],\n",
              "        [0.6809],\n",
              "        [1.0265],\n",
              "        [1.5716]])"
            ]
          },
          "metadata": {},
          "execution_count": 12
        }
      ]
    },
    {
      "cell_type": "markdown",
      "source": [
        "### 4. Set the random seed to `0` and do 2 & 3 over again.\n",
        "\n",
        "The output should be:\n",
        "```\n",
        "(tensor([[1.8542],\n",
        "         [1.9611],\n",
        "         [2.2884],\n",
        "         [3.0481],\n",
        "         [1.7067],\n",
        "         [2.5290],\n",
        "         [1.7989]]), torch.Size([7, 1]))\n",
        "```"
      ],
      "metadata": {
        "id": "eiutdKUFiryU"
      }
    },
    {
      "cell_type": "code",
      "source": [
        "# Set manual seed\n",
        "torch.manual_seed(0)\n",
        "\n",
        "# Create two random tensors\n",
        "x_random_tensor = torch.rand(7, 7)\n",
        "y_random_tensor = torch.rand(1,7)\n",
        "\n",
        "# Matrix multiply tensors\n",
        "result = x_random_tensor @ y_random_tensor.t()\n",
        "result"
      ],
      "metadata": {
        "id": "D-lOWI_1jRMm",
        "outputId": "ad139554-670f-48ad-bf88-1da54f04e17d",
        "colab": {
          "base_uri": "https://localhost:8080/"
        }
      },
      "execution_count": 17,
      "outputs": [
        {
          "output_type": "execute_result",
          "data": {
            "text/plain": [
              "tensor([[1.8542],\n",
              "        [1.9611],\n",
              "        [2.2884],\n",
              "        [3.0481],\n",
              "        [1.7067],\n",
              "        [2.5290],\n",
              "        [1.7989]])"
            ]
          },
          "metadata": {},
          "execution_count": 17
        }
      ]
    },
    {
      "cell_type": "markdown",
      "source": [
        "### 5. Speaking of random seeds, we saw how to set it with `torch.manual_seed()` but is there a GPU equivalent? (hint: you'll need to look into the documentation for `torch.cuda` for this one)\n",
        "  * If there is, set the GPU random seed to `1234`."
      ],
      "metadata": {
        "id": "ezY6ks9Cis37"
      }
    },
    {
      "cell_type": "code",
      "source": [
        "# Set random seed on the GPU\n",
        "\n",
        "torch.cuda.manual_seed(1234)"
      ],
      "metadata": {
        "id": "_LKWcfSTjp00"
      },
      "execution_count": 20,
      "outputs": []
    },
    {
      "cell_type": "markdown",
      "source": [
        "\n",
        "### 6. Create two random tensors of shape `(2, 3)` and send them both to the GPU (you'll need access to a GPU for this). Set `torch.manual_seed(1234)` when creating the tensors (this doesn't have to be the GPU random seed). The output should be something like:\n",
        "\n",
        "```\n",
        "Device: cuda\n",
        "(tensor([[0.0290, 0.4019, 0.2598],\n",
        "         [0.3666, 0.0583, 0.7006]], device='cuda:0'),\n",
        " tensor([[0.0518, 0.4681, 0.6738],\n",
        "         [0.3315, 0.7837, 0.5631]], device='cuda:0'))\n",
        "```"
      ],
      "metadata": {
        "id": "Ir9qSaj6it4n"
      }
    },
    {
      "cell_type": "code",
      "source": [
        "# Set random seed\n",
        "\n",
        "torch.manual_seed(1234)\n",
        "\n",
        "# Create two random tensors on GPU\n",
        "\n",
        "v_random_tensor = torch.rand(2,3)\n",
        "b_random_tensor = torch.rand(2,3)\n",
        "\n",
        "\n",
        "\n",
        "# Check the tensors on CPU\n",
        "print(\"Tensor A (CPU):\")\n",
        "print(v_random_tensor)\n",
        "print(\"Tensor B (CPU):\")\n",
        "print(b_random_tensor)\n",
        "\n",
        "# Send the tensors to GPU\n",
        "device =  \"cuda\" if torch.cuda.is_available() else \"cpu\"\n",
        "v_random_tensor.to(device)\n",
        "b_random_tensor.to(device)\n",
        "\n",
        "# Check the tensors on GPU\n",
        "print(\"Tensor A (GPU):\")\n",
        "print(v_random_tensor)\n",
        "print(\"Tensor B (GPU):\")\n",
        "print(b_random_tensor)"
      ],
      "metadata": {
        "id": "azXExiFZj5nm",
        "outputId": "5e5f7a8e-389f-4f6e-8eda-61d94c24b880",
        "colab": {
          "base_uri": "https://localhost:8080/"
        }
      },
      "execution_count": 29,
      "outputs": [
        {
          "output_type": "stream",
          "name": "stdout",
          "text": [
            "Tensor A (CPU):\n",
            "tensor([[0.0290, 0.4019, 0.2598],\n",
            "        [0.3666, 0.0583, 0.7006]])\n",
            "Tensor B (CPU):\n",
            "tensor([[0.0518, 0.4681, 0.6738],\n",
            "        [0.3315, 0.7837, 0.5631]])\n",
            "Tensor A (GPU):\n",
            "tensor([[0.0290, 0.4019, 0.2598],\n",
            "        [0.3666, 0.0583, 0.7006]])\n",
            "Tensor B (GPU):\n",
            "tensor([[0.0518, 0.4681, 0.6738],\n",
            "        [0.3315, 0.7837, 0.5631]])\n"
          ]
        }
      ]
    },
    {
      "cell_type": "markdown",
      "source": [
        "\n",
        "### 7. Perform a matrix multiplication on the tensors you created in 6 (again, you may have to adjust the shapes of one of the tensors).\n",
        "\n",
        "The output should look like:\n",
        "```\n",
        "(tensor([[0.3647, 0.4709],\n",
        "         [0.5184, 0.5617]], device='cuda:0'), torch.Size([2, 2]))\n",
        "```"
      ],
      "metadata": {
        "id": "5TlAxeiSiu1y"
      }
    },
    {
      "cell_type": "code",
      "source": [
        "# Perform matmul on tensor_A and tensor_B\n",
        "\n",
        "result = v_random_tensor @ b_random_tensor.t()\n",
        "result, result.shape"
      ],
      "metadata": {
        "id": "fAeG7ox0lHEO",
        "outputId": "87b06e40-6ce1-4d34-903a-45f75292ad34",
        "colab": {
          "base_uri": "https://localhost:8080/"
        }
      },
      "execution_count": 36,
      "outputs": [
        {
          "output_type": "execute_result",
          "data": {
            "text/plain": [
              "(tensor([[0.3647, 0.4709],\n",
              "         [0.5184, 0.5617]]),\n",
              " torch.Size([2, 2]))"
            ]
          },
          "metadata": {},
          "execution_count": 36
        }
      ]
    },
    {
      "cell_type": "markdown",
      "source": [
        "### 8. Find the maximum and minimum values of the output of 7."
      ],
      "metadata": {
        "id": "G7qfa5CSivwg"
      }
    },
    {
      "cell_type": "code",
      "source": [
        "# Find max\n",
        "max = torch.max(result)\n",
        "\n",
        "# Find min\n",
        "min  = torch.min(result)\n",
        "min"
      ],
      "metadata": {
        "id": "Fu8_3mZpllOd",
        "outputId": "7050e212-1b94-412c-ebca-c6b811e3f747",
        "colab": {
          "base_uri": "https://localhost:8080/"
        }
      },
      "execution_count": 39,
      "outputs": [
        {
          "output_type": "execute_result",
          "data": {
            "text/plain": [
              "tensor(0.3647)"
            ]
          },
          "metadata": {},
          "execution_count": 39
        }
      ]
    },
    {
      "cell_type": "markdown",
      "source": [
        "### 9. Find the maximum and minimum index values of the output of 7."
      ],
      "metadata": {
        "id": "wrTj5FgNiw47"
      }
    },
    {
      "cell_type": "code",
      "source": [
        "# Find arg max\n",
        "max_indices = torch.argmax(result)\n",
        "max_indices\n",
        "\n",
        "# Find arg min\n",
        "min_indices = torch.argmin(result)\n",
        "min_indices"
      ],
      "metadata": {
        "id": "CCEKt4K2lsfQ",
        "outputId": "1732cfe4-d41e-4d76-e582-e0f31f336207",
        "colab": {
          "base_uri": "https://localhost:8080/"
        }
      },
      "execution_count": 41,
      "outputs": [
        {
          "output_type": "execute_result",
          "data": {
            "text/plain": [
              "tensor(0)"
            ]
          },
          "metadata": {},
          "execution_count": 41
        }
      ]
    },
    {
      "cell_type": "markdown",
      "source": [
        "\n",
        "### 10. Make a random tensor with shape `(1, 1, 1, 10)` and then create a new tensor with all the `1` dimensions removed to be left with a tensor of shape `(10)`. Set the seed to `7` when you create it and print out the first tensor and it's shape as well as the second tensor and it's shape.\n",
        "\n",
        "The output should look like:\n",
        "\n",
        "```\n",
        "tensor([[[[0.5349, 0.1988, 0.6592, 0.6569, 0.2328, 0.4251, 0.2071, 0.6297,\n",
        "           0.3653, 0.8513]]]]) torch.Size([1, 1, 1, 10])\n",
        "tensor([0.5349, 0.1988, 0.6592, 0.6569, 0.2328, 0.4251, 0.2071, 0.6297, 0.3653,\n",
        "        0.8513]) torch.Size([10])\n",
        "```"
      ],
      "metadata": {
        "id": "hmeybz4uixy7"
      }
    },
    {
      "cell_type": "code",
      "source": [
        "# Set seed\n",
        "torch.manual_seed(7)\n",
        "\n",
        "\n",
        "# Create random tensor\n",
        "\n",
        "random_tensor = torch.randn(1, 1, 1, 10)\n",
        "\n",
        "print(random_tensor)\n",
        "\n",
        "\n",
        "# Remove single dimensions\n",
        "torch.manual_seed(7)\n",
        "squeed_tensor = torch.squeeze(random_tensor)\n",
        "\n",
        "# Print out tensors and their shapes\n",
        "squeed_tensor, squeed_tensor.shape"
      ],
      "metadata": {
        "id": "TQ9zbRzVl1jV",
        "outputId": "0c172094-4867-423b-bdbf-744fdb0a8e5d",
        "colab": {
          "base_uri": "https://localhost:8080/"
        }
      },
      "execution_count": 51,
      "outputs": [
        {
          "output_type": "stream",
          "name": "stdout",
          "text": [
            "tensor([[[[-0.1468,  0.7861,  0.9468, -1.1143,  1.6908, -0.8948, -0.3556,\n",
            "            1.2324,  0.1382, -1.6822]]]])\n"
          ]
        },
        {
          "output_type": "execute_result",
          "data": {
            "text/plain": [
              "(tensor([-0.1468,  0.7861,  0.9468, -1.1143,  1.6908, -0.8948, -0.3556,  1.2324,\n",
              "          0.1382, -1.6822]),\n",
              " torch.Size([10]))"
            ]
          },
          "metadata": {},
          "execution_count": 51
        }
      ]
    }
  ]
}